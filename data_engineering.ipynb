{
 "cells": [
  {
   "cell_type": "code",
   "execution_count": 51,
   "metadata": {},
   "outputs": [],
   "source": [
    "# Dependancies\n",
    "import pandas as pd, requests, json\n",
    "import os\n",
    "import csv\n",
    "\n",
    "# Python SQL toolkit and Object Relational Mapper\n",
    "import sqlalchemy\n",
    "from sqlalchemy.orm import Session\n",
    "from sqlalchemy import create_engine, inspect, func\n",
    "\n",
    "# Import modules to declare columns and column data types\n",
    "from sqlalchemy import Column, Integer, String, Float\n",
    "\n",
    "# Import and establish Base for which classes will be constructed \n",
    "from sqlalchemy.ext.declarative import declarative_base\n",
    "\n",
    "# Define Declarative Base \n",
    "Base = declarative_base()\n",
    "\n",
    "# Library OpenCageGeocode => to get lats and longs for each country\n",
    "from opencage.geocoder import OpenCageGeocode"
   ]
  },
  {
   "cell_type": "code",
   "execution_count": 39,
   "metadata": {},
   "outputs": [],
   "source": [
    "# Creating an engine, sqlite database and connection to the engine\n",
    "engine = create_engine(\"sqlite:///db/wine.sqlite\", echo=False)\n",
    "conn = engine.connect()"
   ]
  },
  {
   "cell_type": "code",
   "execution_count": 45,
   "metadata": {},
   "outputs": [
    {
     "data": {
      "text/plain": [
       "['wine_table']"
      ]
     },
     "execution_count": 45,
     "metadata": {},
     "output_type": "execute_result"
    }
   ],
   "source": [
    "# Use this to delete tables\n",
    "# engine.execute('DROP TABLE map_wine_table')\n",
    "\n",
    "# Clear the metadata object, too\n",
    "# Base.metadata.clear()\n",
    "\n",
    "# Inspecting the Table to make sure the table is there\n",
    "# inspector = inspect(engine)\n",
    "# inspector.get_table_names()"
   ]
  },
  {
   "cell_type": "markdown",
   "metadata": {},
   "source": [
    "\n",
    "# Exploratory Analysis of the Data"
   ]
  },
  {
   "cell_type": "code",
   "execution_count": 52,
   "metadata": {},
   "outputs": [
    {
     "data": {
      "text/html": [
       "<div>\n",
       "<style scoped>\n",
       "    .dataframe tbody tr th:only-of-type {\n",
       "        vertical-align: middle;\n",
       "    }\n",
       "\n",
       "    .dataframe tbody tr th {\n",
       "        vertical-align: top;\n",
       "    }\n",
       "\n",
       "    .dataframe thead th {\n",
       "        text-align: right;\n",
       "    }\n",
       "</style>\n",
       "<table border=\"1\" class=\"dataframe\">\n",
       "  <thead>\n",
       "    <tr style=\"text-align: right;\">\n",
       "      <th></th>\n",
       "      <th>Unnamed: 0</th>\n",
       "      <th>country</th>\n",
       "      <th>description</th>\n",
       "      <th>designation</th>\n",
       "      <th>points</th>\n",
       "      <th>price</th>\n",
       "      <th>province</th>\n",
       "      <th>region_1</th>\n",
       "      <th>region_2</th>\n",
       "      <th>variety</th>\n",
       "      <th>winery</th>\n",
       "    </tr>\n",
       "  </thead>\n",
       "  <tbody>\n",
       "    <tr>\n",
       "      <th>0</th>\n",
       "      <td>0</td>\n",
       "      <td>US</td>\n",
       "      <td>This tremendous 100% varietal wine hails from ...</td>\n",
       "      <td>Martha's Vineyard</td>\n",
       "      <td>96</td>\n",
       "      <td>235.0</td>\n",
       "      <td>California</td>\n",
       "      <td>Napa Valley</td>\n",
       "      <td>Napa</td>\n",
       "      <td>Cabernet Sauvignon</td>\n",
       "      <td>Heitz</td>\n",
       "    </tr>\n",
       "    <tr>\n",
       "      <th>1</th>\n",
       "      <td>1</td>\n",
       "      <td>Spain</td>\n",
       "      <td>Ripe aromas of fig, blackberry and cassis are ...</td>\n",
       "      <td>Carodorum Selección Especial Reserva</td>\n",
       "      <td>96</td>\n",
       "      <td>110.0</td>\n",
       "      <td>Northern Spain</td>\n",
       "      <td>Toro</td>\n",
       "      <td>NaN</td>\n",
       "      <td>Tinta de Toro</td>\n",
       "      <td>Bodega Carmen Rodríguez</td>\n",
       "    </tr>\n",
       "  </tbody>\n",
       "</table>\n",
       "</div>"
      ],
      "text/plain": [
       "   Unnamed: 0 country                                        description  \\\n",
       "0           0      US  This tremendous 100% varietal wine hails from ...   \n",
       "1           1   Spain  Ripe aromas of fig, blackberry and cassis are ...   \n",
       "\n",
       "                            designation  points  price        province  \\\n",
       "0                     Martha's Vineyard      96  235.0      California   \n",
       "1  Carodorum Selección Especial Reserva      96  110.0  Northern Spain   \n",
       "\n",
       "      region_1 region_2             variety                   winery  \n",
       "0  Napa Valley     Napa  Cabernet Sauvignon                    Heitz  \n",
       "1         Toro      NaN       Tinta de Toro  Bodega Carmen Rodríguez  "
      ]
     },
     "execution_count": 52,
     "metadata": {},
     "output_type": "execute_result"
    }
   ],
   "source": [
    "# Read in CSV File\n",
    "raw_df=pd.read_csv('db/wine_library.csv', dtype={'Zip': 'str'})\n",
    "raw_df.head(2)"
   ]
  },
  {
   "cell_type": "code",
   "execution_count": 53,
   "metadata": {},
   "outputs": [
    {
     "data": {
      "text/html": [
       "<div>\n",
       "<style scoped>\n",
       "    .dataframe tbody tr th:only-of-type {\n",
       "        vertical-align: middle;\n",
       "    }\n",
       "\n",
       "    .dataframe tbody tr th {\n",
       "        vertical-align: top;\n",
       "    }\n",
       "\n",
       "    .dataframe thead th {\n",
       "        text-align: right;\n",
       "    }\n",
       "</style>\n",
       "<table border=\"1\" class=\"dataframe\">\n",
       "  <thead>\n",
       "    <tr style=\"text-align: right;\">\n",
       "      <th></th>\n",
       "      <th>Unnamed: 0</th>\n",
       "      <th>points</th>\n",
       "      <th>price</th>\n",
       "    </tr>\n",
       "  </thead>\n",
       "  <tbody>\n",
       "    <tr>\n",
       "      <th>count</th>\n",
       "      <td>150930.000000</td>\n",
       "      <td>150930.000000</td>\n",
       "      <td>137235.000000</td>\n",
       "    </tr>\n",
       "    <tr>\n",
       "      <th>mean</th>\n",
       "      <td>75464.500000</td>\n",
       "      <td>87.888418</td>\n",
       "      <td>33.131482</td>\n",
       "    </tr>\n",
       "    <tr>\n",
       "      <th>std</th>\n",
       "      <td>43569.882402</td>\n",
       "      <td>3.222392</td>\n",
       "      <td>36.322536</td>\n",
       "    </tr>\n",
       "    <tr>\n",
       "      <th>min</th>\n",
       "      <td>0.000000</td>\n",
       "      <td>80.000000</td>\n",
       "      <td>4.000000</td>\n",
       "    </tr>\n",
       "    <tr>\n",
       "      <th>25%</th>\n",
       "      <td>37732.250000</td>\n",
       "      <td>86.000000</td>\n",
       "      <td>16.000000</td>\n",
       "    </tr>\n",
       "    <tr>\n",
       "      <th>50%</th>\n",
       "      <td>75464.500000</td>\n",
       "      <td>88.000000</td>\n",
       "      <td>24.000000</td>\n",
       "    </tr>\n",
       "    <tr>\n",
       "      <th>75%</th>\n",
       "      <td>113196.750000</td>\n",
       "      <td>90.000000</td>\n",
       "      <td>40.000000</td>\n",
       "    </tr>\n",
       "    <tr>\n",
       "      <th>max</th>\n",
       "      <td>150929.000000</td>\n",
       "      <td>100.000000</td>\n",
       "      <td>2300.000000</td>\n",
       "    </tr>\n",
       "  </tbody>\n",
       "</table>\n",
       "</div>"
      ],
      "text/plain": [
       "          Unnamed: 0         points          price\n",
       "count  150930.000000  150930.000000  137235.000000\n",
       "mean    75464.500000      87.888418      33.131482\n",
       "std     43569.882402       3.222392      36.322536\n",
       "min         0.000000      80.000000       4.000000\n",
       "25%     37732.250000      86.000000      16.000000\n",
       "50%     75464.500000      88.000000      24.000000\n",
       "75%    113196.750000      90.000000      40.000000\n",
       "max    150929.000000     100.000000    2300.000000"
      ]
     },
     "execution_count": 53,
     "metadata": {},
     "output_type": "execute_result"
    }
   ],
   "source": [
    "# Inspecting the data \n",
    "# NOTE: The lowest point is 80, the highest is 100, so have to put the ratings in the range for the ml label later on\n",
    "raw_df.describe()"
   ]
  },
  {
   "cell_type": "code",
   "execution_count": 54,
   "metadata": {},
   "outputs": [
    {
     "data": {
      "text/plain": [
       "(150930, 11)"
      ]
     },
     "execution_count": 54,
     "metadata": {},
     "output_type": "execute_result"
    }
   ],
   "source": [
    "# Shape of the data\n",
    "raw_df.shape"
   ]
  },
  {
   "cell_type": "code",
   "execution_count": 55,
   "metadata": {},
   "outputs": [
    {
     "data": {
      "text/plain": [
       "Unnamed: 0         0\n",
       "country            5\n",
       "description        0\n",
       "designation    45735\n",
       "points             0\n",
       "price          13695\n",
       "province           5\n",
       "region_1       25060\n",
       "region_2       89977\n",
       "variety            0\n",
       "winery             0\n",
       "dtype: int64"
      ]
     },
     "execution_count": 55,
     "metadata": {},
     "output_type": "execute_result"
    }
   ],
   "source": [
    "# See if there are any NaN values\n",
    "raw_df.isnull().sum()"
   ]
  },
  {
   "cell_type": "code",
   "execution_count": 56,
   "metadata": {},
   "outputs": [
    {
     "data": {
      "text/html": [
       "<div>\n",
       "<style scoped>\n",
       "    .dataframe tbody tr th:only-of-type {\n",
       "        vertical-align: middle;\n",
       "    }\n",
       "\n",
       "    .dataframe tbody tr th {\n",
       "        vertical-align: top;\n",
       "    }\n",
       "\n",
       "    .dataframe thead th {\n",
       "        text-align: right;\n",
       "    }\n",
       "</style>\n",
       "<table border=\"1\" class=\"dataframe\">\n",
       "  <thead>\n",
       "    <tr style=\"text-align: right;\">\n",
       "      <th></th>\n",
       "      <th>country</th>\n",
       "      <th>description</th>\n",
       "      <th>points</th>\n",
       "      <th>price</th>\n",
       "      <th>province</th>\n",
       "      <th>region_1</th>\n",
       "      <th>region_2</th>\n",
       "      <th>variety</th>\n",
       "      <th>winery</th>\n",
       "    </tr>\n",
       "  </thead>\n",
       "  <tbody>\n",
       "    <tr>\n",
       "      <th>0</th>\n",
       "      <td>US</td>\n",
       "      <td>This tremendous 100% varietal wine hails from ...</td>\n",
       "      <td>96</td>\n",
       "      <td>235.0</td>\n",
       "      <td>California</td>\n",
       "      <td>Napa Valley</td>\n",
       "      <td>Napa</td>\n",
       "      <td>Cabernet Sauvignon</td>\n",
       "      <td>Heitz</td>\n",
       "    </tr>\n",
       "    <tr>\n",
       "      <th>1</th>\n",
       "      <td>Spain</td>\n",
       "      <td>Ripe aromas of fig, blackberry and cassis are ...</td>\n",
       "      <td>96</td>\n",
       "      <td>110.0</td>\n",
       "      <td>Northern Spain</td>\n",
       "      <td>Toro</td>\n",
       "      <td>NaN</td>\n",
       "      <td>Tinta de Toro</td>\n",
       "      <td>Bodega Carmen Rodríguez</td>\n",
       "    </tr>\n",
       "  </tbody>\n",
       "</table>\n",
       "</div>"
      ],
      "text/plain": [
       "  country                                        description  points  price  \\\n",
       "0      US  This tremendous 100% varietal wine hails from ...      96  235.0   \n",
       "1   Spain  Ripe aromas of fig, blackberry and cassis are ...      96  110.0   \n",
       "\n",
       "         province     region_1 region_2             variety  \\\n",
       "0      California  Napa Valley     Napa  Cabernet Sauvignon   \n",
       "1  Northern Spain         Toro      NaN       Tinta de Toro   \n",
       "\n",
       "                    winery  \n",
       "0                    Heitz  \n",
       "1  Bodega Carmen Rodríguez  "
      ]
     },
     "execution_count": 56,
     "metadata": {},
     "output_type": "execute_result"
    }
   ],
   "source": [
    "# Drop designation & region_2 columns (don't need those)\n",
    "dropped_df = raw_df.drop(['designation', 'Unnamed: 0'], axis = 1) \n",
    "dropped_df.head(2)"
   ]
  },
  {
   "cell_type": "code",
   "execution_count": 57,
   "metadata": {},
   "outputs": [],
   "source": [
    "# Drop all NaN values in region_1 and price columns\n",
    "# NOTE: if there is a missing values in region 1 then the data was entered incorrectly\n",
    "# NOTE: Only dropping NaN values from country and price. If I dropped NaN values from region_2 then I only have 9 \n",
    "# countries, losing too much data.\n",
    "new_df = dropped_df.dropna(subset=['price', 'country'])"
   ]
  },
  {
   "cell_type": "code",
   "execution_count": 58,
   "metadata": {},
   "outputs": [
    {
     "data": {
      "text/plain": [
       "(137230, 9)"
      ]
     },
     "execution_count": 58,
     "metadata": {},
     "output_type": "execute_result"
    }
   ],
   "source": [
    "# The shape of a clean dataset \n",
    "new_df.shape"
   ]
  },
  {
   "cell_type": "code",
   "execution_count": 25,
   "metadata": {},
   "outputs": [
    {
     "data": {
      "text/html": [
       "<div>\n",
       "<style scoped>\n",
       "    .dataframe tbody tr th:only-of-type {\n",
       "        vertical-align: middle;\n",
       "    }\n",
       "\n",
       "    .dataframe tbody tr th {\n",
       "        vertical-align: top;\n",
       "    }\n",
       "\n",
       "    .dataframe thead th {\n",
       "        text-align: right;\n",
       "    }\n",
       "</style>\n",
       "<table border=\"1\" class=\"dataframe\">\n",
       "  <thead>\n",
       "    <tr style=\"text-align: right;\">\n",
       "      <th></th>\n",
       "      <th>country</th>\n",
       "      <th>description</th>\n",
       "      <th>points</th>\n",
       "      <th>price</th>\n",
       "      <th>province</th>\n",
       "      <th>region_1</th>\n",
       "      <th>region_2</th>\n",
       "      <th>variety</th>\n",
       "      <th>winery</th>\n",
       "    </tr>\n",
       "  </thead>\n",
       "  <tbody>\n",
       "    <tr>\n",
       "      <th>0</th>\n",
       "      <td>US</td>\n",
       "      <td>This tremendous 100% varietal wine hails from ...</td>\n",
       "      <td>96</td>\n",
       "      <td>235.0</td>\n",
       "      <td>California</td>\n",
       "      <td>Napa Valley</td>\n",
       "      <td>Napa</td>\n",
       "      <td>Cabernet Sauvignon</td>\n",
       "      <td>Heitz</td>\n",
       "    </tr>\n",
       "    <tr>\n",
       "      <th>1</th>\n",
       "      <td>Spain</td>\n",
       "      <td>Ripe aromas of fig, blackberry and cassis are ...</td>\n",
       "      <td>96</td>\n",
       "      <td>110.0</td>\n",
       "      <td>Northern Spain</td>\n",
       "      <td>Toro</td>\n",
       "      <td>NaN</td>\n",
       "      <td>Tinta de Toro</td>\n",
       "      <td>Bodega Carmen Rodríguez</td>\n",
       "    </tr>\n",
       "  </tbody>\n",
       "</table>\n",
       "</div>"
      ],
      "text/plain": [
       "  country                                        description  points  price  \\\n",
       "0      US  This tremendous 100% varietal wine hails from ...      96  235.0   \n",
       "1   Spain  Ripe aromas of fig, blackberry and cassis are ...      96  110.0   \n",
       "\n",
       "         province     region_1 region_2             variety  \\\n",
       "0      California  Napa Valley     Napa  Cabernet Sauvignon   \n",
       "1  Northern Spain         Toro      NaN       Tinta de Toro   \n",
       "\n",
       "                    winery  \n",
       "0                    Heitz  \n",
       "1  Bodega Carmen Rodríguez  "
      ]
     },
     "execution_count": 25,
     "metadata": {},
     "output_type": "execute_result"
    }
   ],
   "source": [
    "new_df.head(2)"
   ]
  },
  {
   "cell_type": "markdown",
   "metadata": {},
   "source": [
    "# Load the Data into sqlite database"
   ]
  },
  {
   "cell_type": "code",
   "execution_count": 18,
   "metadata": {},
   "outputs": [],
   "source": [
    "# Creating a Class & table \n",
    "class Wine(Base):\n",
    "    __tablename__ = 'wine_table'\n",
    "    id = Column(Integer, primary_key=True)\n",
    "    country = Column(String(255))\n",
    "    description = Column(String(1000))\n",
    "    points = Column(Float)\n",
    "    price = Column(Float)\n",
    "    province = Column(String(255))\n",
    "    region_1 = Column(String(255))\n",
    "    region_2 = Column(String(255))\n",
    "    variety = Column(String(255))\n",
    "    winery = Column(String(255))"
   ]
  },
  {
   "cell_type": "code",
   "execution_count": 19,
   "metadata": {},
   "outputs": [],
   "source": [
    "Base.metadata.create_all(conn)"
   ]
  },
  {
   "cell_type": "code",
   "execution_count": 20,
   "metadata": {},
   "outputs": [],
   "source": [
    "# Transfer the data to sqlite table\n",
    "new_df.to_sql(name='wine_table', con=conn, if_exists='append', index=False)"
   ]
  },
  {
   "cell_type": "code",
   "execution_count": 21,
   "metadata": {},
   "outputs": [
    {
     "data": {
      "text/plain": [
       "['wine_table']"
      ]
     },
     "execution_count": 21,
     "metadata": {},
     "output_type": "execute_result"
    }
   ],
   "source": [
    "# Inspecting the Table to make sure the table is there\n",
    "inspector = inspect(engine)\n",
    "inspector.get_table_names()"
   ]
  },
  {
   "cell_type": "code",
   "execution_count": 22,
   "metadata": {},
   "outputs": [
    {
     "data": {
      "text/plain": [
       "[(1, 'US', 'This tremendous 100% varietal wine hails from Oakville and was aged over three years in oak. Juicy red-cherry fruit and a compelling hint of caramel  ... (57 characters truncated) ... ubtle minty tone in the background. Balanced and rewarding from start to finish, it has years ahead of it to develop further nuance. Enjoy 2022–2030.', 96.0, 235.0, 'California', 'Napa Valley', 'Napa', 'Cabernet Sauvignon', 'Heitz'),\n",
       " (2, 'Spain', 'Ripe aromas of fig, blackberry and cassis are softened and sweetened by a slathering of oaky chocolate and vanilla. This is full, layered, intense an ... (20 characters truncated) ... alate, with rich flavors of chocolaty black fruits and baking spices. A toasty, everlasting finish is heady but ideally balanced. Drink through 2023.', 96.0, 110.0, 'Northern Spain', 'Toro', None, 'Tinta de Toro', 'Bodega Carmen Rodríguez'),\n",
       " (3, 'US', 'Mac Watson honors the memory of a wine once made by his mother in this tremendously delicious, balanced and complex botrytised white. Dark gold in color, it layers toasted hazelnut, pear compote and orange peel flavors, reveling in the succulence of its 122 g/L of residual sugar.', 96.0, 90.0, 'California', 'Knights Valley', 'Sonoma', 'Sauvignon Blanc', 'Macauley'),\n",
       " (4, 'US', \"This spent 20 months in 30% new French oak, and incorporates fruit from Ponzi's Aurora, Abetina and Madrona vineyards, among others. Aromatic, dense  ... (88 characters truncated) ... herry, coffee and graphite. Tannins are polished to a fine sheen, and frame a finish loaded with dark chocolate and espresso. Drink now through 2032.\", 96.0, 65.0, 'Oregon', 'Willamette Valley', 'Willamette Valley', 'Pinot Noir', 'Ponzi'),\n",
       " (5, 'France', 'This is the top wine from La Bégude, named after the highest point in the vineyard at 1200 feet. It has structure, density and considerable acidity t ... (78 characters truncated) ... extra richness and concentration. Produced by the Tari family, formerly of Château Giscours in Margaux, it is a wine made for aging. Drink from 2020.', 95.0, 66.0, 'Provence', 'Bandol', None, 'Provence red blend', 'Domaine de la Bégude'),\n",
       " (6, 'Spain', 'Deep, dense and pure from the opening bell, this Toro is a winner. Aromas of dark ripe black fruits are cool and moderately oaked. This feels massive ... (17 characters truncated) ... t sensationally balanced. Flavors of blackberry, coffee, mocha and toasty oak finish spicy, smooth and heady. Drink this exemplary Toro through 2023.', 95.0, 73.0, 'Northern Spain', 'Toro', None, 'Tinta de Toro', 'Numanthia'),\n",
       " (7, 'Spain', \"Slightly gritty black-fruit aromas include a sweet note of pastry along with a hint of prune. Wall-to-wall saturation ensures that all corners of one ... (21 characters truncated) ...  Flavors of blackberry, mocha and chocolate are highly impressive and expressive, while this settles nicely on a long finish. Drink now through 2024.\", 95.0, 65.0, 'Northern Spain', 'Toro', None, 'Tinta de Toro', 'Maurodos'),\n",
       " (8, 'Spain', 'Lush cedary black-fruit aromas are luxe and offer notes of marzipan and vanilla. This bruiser is massive and tannic on the palate, but still lush and ... (59 characters truncated) ...  cassis flavors are hardly wallflowers. On the finish, this is tannic and deep as a sea trench. Drink this saturated black-colored Toro through 2023.', 95.0, 110.0, 'Northern Spain', 'Toro', None, 'Tinta de Toro', 'Bodega Carmen Rodríguez'),\n",
       " (9, 'US', \"This re-named vineyard was formerly bottled as deLancellotti. You'll find striking minerality underscoring chunky black fruits. Accents of citrus and graphite comingle, with exceptional midpalate concentration. This is a wine to cellar, though it is already quite enjoyable. Drink now through 2030.\", 95.0, 65.0, 'Oregon', 'Chehalem Mountains', 'Willamette Valley', 'Pinot Noir', 'Bergström'),\n",
       " (10, 'US', 'The producer sources from two blocks of the vineyard for this wine—one at a high elevation, which contributes bright acidity. Crunchy cranberry, pome ... (9 characters truncated) ... nd orange peel flavors surround silky, succulent layers of texture that present as fleshy fruit. That delicately lush flavor has considerable length.', 95.0, 60.0, 'California', 'Sonoma Coast', 'Sonoma', 'Pinot Noir', 'Blue Farm'),\n",
       " (11, 'Italy', \"Elegance, complexity and structure come together in this drop-dead gorgeous winethat ranks among Italy's greatest whites. It opens with sublime yello ... (76 characters truncated) ... us palate seamlessly combines juicy white peach, ripe pear and citrus flavors while white almond and savory mineral notes grace the lingering finish.\", 95.0, 80.0, 'Northeastern Italy', 'Collio', None, 'Friulano', 'Borgo del Tiglio'),\n",
       " (12, 'US', 'From 18-year-old vines, this supple well-balanced effort blends flavors of mocha, cherry, vanilla and breakfast tea. Superbly integrated and delicious even at this early stage, this wine seems destined for a long and savory cellar life. Drink now through 2028.', 95.0, 48.0, 'Oregon', 'Ribbon Ridge', 'Willamette Valley', 'Pinot Noir', 'Patricia Green Cellars'),\n",
       " (13, 'US', 'A standout even in this terrific lineup of 2015 releases from Patricia Green, the Weber opens with a burst of cola and tobacco scents and accents. It continues, subtle and detailed, with flavors of oranges, vanilla, tea and milk chocolate discreetly threaded through ripe blackberry fruit.', 95.0, 48.0, 'Oregon', 'Dundee Hills', 'Willamette Valley', 'Pinot Noir', 'Patricia Green Cellars'),\n",
       " (14, 'France', 'This wine is in peak condition. The tannins and the secondary flavors dominate this ripe leather-textured wine. The fruit is all there as well: dried ... (5 characters truncated) ... ies and hints of black-plum skins. It is a major wine right at the point of drinking with both the mature flavors and the fruit in the right balance.', 95.0, 90.0, 'Southwest France', 'Madiran', None, 'Tannat', 'Vignobles Brumont'),\n",
       " (15, 'US', \"With its sophisticated mix of mineral, acid and tart fruits, this seductive effort pleases from start to finish. Supple and dense, it's got strawberr ... (129 characters truncated) ... proportion and finish with an appealing silky texture. It's delicious already, but give it another decade for full enjoyment. Drink now through 2028.\", 95.0, 185.0, 'Oregon', 'Dundee Hills', 'Willamette Valley', 'Pinot Noir', 'Domaine Serene'),\n",
       " (16, 'US', \"First made in 2006, this succulent luscious Chardonnay is all about minerality. It's got a rich core of butterscotch and the seemingly endless layers of subtle flavors that biodynamic farming can bring. It spends 18 months on the lees prior to bottling. Drink now through 2028.\", 95.0, 90.0, 'Oregon', 'Willamette Valley', 'Willamette Valley', 'Chardonnay', 'Bergström'),\n",
       " (17, 'US', \"This blockbuster, powerhouse of a wine suggests blueberry pie and chocolate as it opens in the glass. On the palate, it's smooth and seductively silky, offering complex cedar, peppercorn and peppery oak seasonings amidst its dense richness. It finishes with finesse and spice.\", 95.0, 325.0, 'California', 'Diamond Mountain District', 'Napa', 'Cabernet Sauvignon', 'Hall'),\n",
       " (18, 'Spain', 'Nicely oaked blackberry, licorice, vanilla and charred aromas are smooth and sultry. This is an outstanding wine from an excellent year. Forward barr ... (40 characters truncated) ... ackberry and raspberry fruit, while this runs long and tastes vaguely chocolaty on the velvety finish. Enjoy this top-notch Tempranillo through 2030.', 95.0, 80.0, 'Northern Spain', 'Ribera del Duero', None, 'Tempranillo', 'Valduero'),\n",
       " (19, 'France', 'Coming from a seven-acre vineyard named after the dovecote on the property, this is a magnificent wine. Powered by both fruit tannins and the 28 mont ... (74 characters truncated) ...  sign of its pedigree, there is also elegance here, a restraint which is new to this wine. That makes it a wine for long-term aging. Drink from 2022.', 95.0, 290.0, 'Southwest France', 'Cahors', None, 'Malbec', 'Château Lagrézette'),\n",
       " (20, 'US', 'This fresh and lively medium-bodied wine is beautifully crafted, with cherry blossom aromas and tangy acidity. Layered and seductive, it offers a crisp mix of orange peel, cherry, pomegranate and baking spice flavors that are ready for the table or the cellar.', 95.0, 75.0, 'California', 'Sonoma Coast', 'Sonoma', 'Pinot Noir', 'Gary Farrell')]"
      ]
     },
     "execution_count": 22,
     "metadata": {},
     "output_type": "execute_result"
    }
   ],
   "source": [
    "# Checking the data \n",
    "engine.execute('SELECT * FROM wine_table LIMIT 20').fetchall()"
   ]
  },
  {
   "cell_type": "markdown",
   "metadata": {},
   "source": [
    "# Data Engineering for Leaflet part"
   ]
  },
  {
   "cell_type": "code",
   "execution_count": 59,
   "metadata": {},
   "outputs": [
    {
     "data": {
      "text/plain": [
       "array(['US', 'Spain', 'France', 'Italy', 'New Zealand', 'Bulgaria',\n",
       "       'Argentina', 'Australia', 'Portugal', 'Israel', 'South Africa',\n",
       "       'Greece', 'Chile', 'Morocco', 'Romania', 'Germany', 'Canada',\n",
       "       'Moldova', 'Hungary', 'Austria', 'Croatia', 'Slovenia', 'India',\n",
       "       'Turkey', 'Macedonia', 'Lebanon', 'Serbia', 'Uruguay',\n",
       "       'Switzerland', 'Albania', 'Bosnia and Herzegovina', 'Brazil',\n",
       "       'Cyprus', 'Lithuania', 'Japan', 'China', 'South Korea', 'Ukraine',\n",
       "       'England', 'Mexico', 'Georgia', 'Montenegro', 'Luxembourg',\n",
       "       'Slovakia', 'Czech Republic', 'US-France'], dtype=object)"
      ]
     },
     "execution_count": 59,
     "metadata": {},
     "output_type": "execute_result"
    }
   ],
   "source": [
    "# Check for the unique countries \n",
    "new_df[\"country\"].unique()"
   ]
  },
  {
   "cell_type": "code",
   "execution_count": 60,
   "metadata": {},
   "outputs": [
    {
     "data": {
      "text/html": [
       "<div>\n",
       "<style scoped>\n",
       "    .dataframe tbody tr th:only-of-type {\n",
       "        vertical-align: middle;\n",
       "    }\n",
       "\n",
       "    .dataframe tbody tr th {\n",
       "        vertical-align: top;\n",
       "    }\n",
       "\n",
       "    .dataframe thead th {\n",
       "        text-align: right;\n",
       "    }\n",
       "</style>\n",
       "<table border=\"1\" class=\"dataframe\">\n",
       "  <thead>\n",
       "    <tr style=\"text-align: right;\">\n",
       "      <th></th>\n",
       "      <th>points</th>\n",
       "      <th>price</th>\n",
       "    </tr>\n",
       "    <tr>\n",
       "      <th>country</th>\n",
       "      <th></th>\n",
       "      <th></th>\n",
       "    </tr>\n",
       "  </thead>\n",
       "  <tbody>\n",
       "    <tr>\n",
       "      <th>Albania</th>\n",
       "      <td>88.000000</td>\n",
       "      <td>20.000000</td>\n",
       "    </tr>\n",
       "    <tr>\n",
       "      <th>Argentina</th>\n",
       "      <td>86.001074</td>\n",
       "      <td>20.794881</td>\n",
       "    </tr>\n",
       "  </tbody>\n",
       "</table>\n",
       "</div>"
      ],
      "text/plain": [
       "              points      price\n",
       "country                        \n",
       "Albania    88.000000  20.000000\n",
       "Argentina  86.001074  20.794881"
      ]
     },
     "execution_count": 60,
     "metadata": {},
     "output_type": "execute_result"
    }
   ],
   "source": [
    "# Get the averages for each country \n",
    "map_data = new_df.groupby('country').agg({'points':'mean', 'price':'mean'})\n",
    "map_data.head(2)"
   ]
  },
  {
   "cell_type": "code",
   "execution_count": 61,
   "metadata": {},
   "outputs": [
    {
     "data": {
      "text/html": [
       "<div>\n",
       "<style scoped>\n",
       "    .dataframe tbody tr th:only-of-type {\n",
       "        vertical-align: middle;\n",
       "    }\n",
       "\n",
       "    .dataframe tbody tr th {\n",
       "        vertical-align: top;\n",
       "    }\n",
       "\n",
       "    .dataframe thead th {\n",
       "        text-align: right;\n",
       "    }\n",
       "</style>\n",
       "<table border=\"1\" class=\"dataframe\">\n",
       "  <thead>\n",
       "    <tr style=\"text-align: right;\">\n",
       "      <th></th>\n",
       "      <th>country</th>\n",
       "      <th>points</th>\n",
       "      <th>price</th>\n",
       "    </tr>\n",
       "  </thead>\n",
       "  <tbody>\n",
       "    <tr>\n",
       "      <th>0</th>\n",
       "      <td>Albania</td>\n",
       "      <td>88.000000</td>\n",
       "      <td>20.000000</td>\n",
       "    </tr>\n",
       "    <tr>\n",
       "      <th>1</th>\n",
       "      <td>Argentina</td>\n",
       "      <td>86.001074</td>\n",
       "      <td>20.794881</td>\n",
       "    </tr>\n",
       "  </tbody>\n",
       "</table>\n",
       "</div>"
      ],
      "text/plain": [
       "     country     points      price\n",
       "0    Albania  88.000000  20.000000\n",
       "1  Argentina  86.001074  20.794881"
      ]
     },
     "execution_count": 61,
     "metadata": {},
     "output_type": "execute_result"
    }
   ],
   "source": [
    "# Reset the index in order to convert df into a list of dictionaries\n",
    "map_df = map_data.reset_index()\n",
    "map_df.head(2)"
   ]
  },
  {
   "cell_type": "code",
   "execution_count": 62,
   "metadata": {},
   "outputs": [],
   "source": [
    "# OpenCageGeocode\n",
    "# Save API key in the variable \n",
    "key = \"735fa8c57707473ab1e9c3742a4e9e2c\""
   ]
  },
  {
   "cell_type": "code",
   "execution_count": 63,
   "metadata": {},
   "outputs": [],
   "source": [
    "# Assig the key \n",
    "geocoder = OpenCageGeocode(key)"
   ]
  },
  {
   "cell_type": "code",
   "execution_count": 65,
   "metadata": {},
   "outputs": [
    {
     "data": {
      "text/html": [
       "<div>\n",
       "<style scoped>\n",
       "    .dataframe tbody tr th:only-of-type {\n",
       "        vertical-align: middle;\n",
       "    }\n",
       "\n",
       "    .dataframe tbody tr th {\n",
       "        vertical-align: top;\n",
       "    }\n",
       "\n",
       "    .dataframe thead th {\n",
       "        text-align: right;\n",
       "    }\n",
       "</style>\n",
       "<table border=\"1\" class=\"dataframe\">\n",
       "  <thead>\n",
       "    <tr style=\"text-align: right;\">\n",
       "      <th></th>\n",
       "      <th>country</th>\n",
       "      <th>points</th>\n",
       "      <th>price</th>\n",
       "      <th>lat</th>\n",
       "      <th>lon</th>\n",
       "    </tr>\n",
       "  </thead>\n",
       "  <tbody>\n",
       "    <tr>\n",
       "      <th>0</th>\n",
       "      <td>Albania</td>\n",
       "      <td>88.000000</td>\n",
       "      <td>20.000000</td>\n",
       "      <td>41.000028</td>\n",
       "      <td>19.999962</td>\n",
       "    </tr>\n",
       "    <tr>\n",
       "      <th>1</th>\n",
       "      <td>Argentina</td>\n",
       "      <td>86.001074</td>\n",
       "      <td>20.794881</td>\n",
       "      <td>-34.996496</td>\n",
       "      <td>-64.967282</td>\n",
       "    </tr>\n",
       "  </tbody>\n",
       "</table>\n",
       "</div>"
      ],
      "text/plain": [
       "     country     points      price        lat        lon\n",
       "0    Albania  88.000000  20.000000  41.000028  19.999962\n",
       "1  Argentina  86.001074  20.794881 -34.996496 -64.967282"
      ]
     },
     "execution_count": 65,
     "metadata": {},
     "output_type": "execute_result"
    }
   ],
   "source": [
    "# Create empty lists to save the results\n",
    "list_lat = []   \n",
    "list_long = []\n",
    "\n",
    "# Iterate over rows in dataframe\n",
    "for index, row in map_df.iterrows(): \n",
    "\n",
    "    Country = row['country']    \n",
    "    query = str(Country)\n",
    "\n",
    "    results = geocoder.geocode(query)   \n",
    "    lat = results[0]['geometry']['lat']\n",
    "    long = results[0]['geometry']['lng']\n",
    "\n",
    "    list_lat.append(lat)\n",
    "    list_long.append(long)\n",
    "\n",
    "# Create new columns from lists    \n",
    "map_df['lat'] = list_lat   \n",
    "map_df['lon'] = list_long\n",
    "\n",
    "map_df.head(2)"
   ]
  },
  {
   "cell_type": "code",
   "execution_count": 86,
   "metadata": {},
   "outputs": [
    {
     "name": "stdout",
     "output_type": "stream",
     "text": [
      "We have 46 geotagged rows\n"
     ]
    },
    {
     "data": {
      "text/html": [
       "<div>\n",
       "<style scoped>\n",
       "    .dataframe tbody tr th:only-of-type {\n",
       "        vertical-align: middle;\n",
       "    }\n",
       "\n",
       "    .dataframe tbody tr th {\n",
       "        vertical-align: top;\n",
       "    }\n",
       "\n",
       "    .dataframe thead th {\n",
       "        text-align: right;\n",
       "    }\n",
       "</style>\n",
       "<table border=\"1\" class=\"dataframe\">\n",
       "  <thead>\n",
       "    <tr style=\"text-align: right;\">\n",
       "      <th></th>\n",
       "      <th>country</th>\n",
       "      <th>points</th>\n",
       "      <th>price</th>\n",
       "      <th>lat</th>\n",
       "      <th>lon</th>\n",
       "    </tr>\n",
       "  </thead>\n",
       "  <tbody>\n",
       "    <tr>\n",
       "      <th>41</th>\n",
       "      <td>Turkey</td>\n",
       "      <td>88.140000</td>\n",
       "      <td>25.800000</td>\n",
       "      <td>38.959759</td>\n",
       "      <td>34.924965</td>\n",
       "    </tr>\n",
       "    <tr>\n",
       "      <th>42</th>\n",
       "      <td>US</td>\n",
       "      <td>87.817200</td>\n",
       "      <td>33.653808</td>\n",
       "      <td>39.783730</td>\n",
       "      <td>-100.445882</td>\n",
       "    </tr>\n",
       "    <tr>\n",
       "      <th>43</th>\n",
       "      <td>US-France</td>\n",
       "      <td>88.000000</td>\n",
       "      <td>50.000000</td>\n",
       "      <td>45.082085</td>\n",
       "      <td>6.059645</td>\n",
       "    </tr>\n",
       "    <tr>\n",
       "      <th>44</th>\n",
       "      <td>Ukraine</td>\n",
       "      <td>84.600000</td>\n",
       "      <td>13.000000</td>\n",
       "      <td>49.487197</td>\n",
       "      <td>31.271832</td>\n",
       "    </tr>\n",
       "    <tr>\n",
       "      <th>45</th>\n",
       "      <td>Uruguay</td>\n",
       "      <td>84.541176</td>\n",
       "      <td>25.847059</td>\n",
       "      <td>-32.875555</td>\n",
       "      <td>-56.020153</td>\n",
       "    </tr>\n",
       "  </tbody>\n",
       "</table>\n",
       "</div>"
      ],
      "text/plain": [
       "      country     points      price        lat         lon\n",
       "41     Turkey  88.140000  25.800000  38.959759   34.924965\n",
       "42         US  87.817200  33.653808  39.783730 -100.445882\n",
       "43  US-France  88.000000  50.000000  45.082085    6.059645\n",
       "44    Ukraine  84.600000  13.000000  49.487197   31.271832\n",
       "45    Uruguay  84.541176  25.847059 -32.875555  -56.020153"
      ]
     },
     "execution_count": 86,
     "metadata": {},
     "output_type": "execute_result"
    }
   ],
   "source": [
    "# drop any rows that lack lat/long data if any\n",
    "df_geo = map_df.dropna(subset=['lat', 'lon'], axis=0, inplace=False)\n",
    "\n",
    "print('We have {} geotagged rows'.format(len(df_geo)))\n",
    "df_geo.tail()"
   ]
  },
  {
   "cell_type": "code",
   "execution_count": 87,
   "metadata": {},
   "outputs": [],
   "source": [
    "# Function to convert df to geoJson\n",
    "def df_to_geojson(map_df, properties, lat='lat', lon='lon'):\n",
    "    \n",
    "    # create a new dict to contain geojson data, using geojson format\n",
    "    geojson = {'type':'FeatureCollection', 'features':[]}\n",
    "    \n",
    "    # loop through each row in the dataframe and convert each row to geojson format\n",
    "    for _, row in map_df.iterrows():\n",
    "        \n",
    "        # create a feature template to fill in\n",
    "        feature = {'type':'Feature',\n",
    "                   'properties':{},\n",
    "                   'geometry':{'type':'Point',\n",
    "                               'coordinates':[]}}\n",
    "        feature['geometry']['coordinates'] = [row[lon],row[lat]]\n",
    "        for prop in properties:\n",
    "            feature['properties'][prop] = row[prop]\n",
    "        geojson['features'].append(feature)\n",
    "    return geojson"
   ]
  },
  {
   "cell_type": "code",
   "execution_count": 88,
   "metadata": {},
   "outputs": [],
   "source": [
    "# Save list of columns in var\n",
    "useful_columns = ['country', 'points', 'price']\n",
    "\n",
    "# Save df in geojson dict with properties\n",
    "geojson_dict = df_to_geojson(df_geo, properties=useful_columns)\n",
    "\n",
    "# Finally dump json\n",
    "geojson_str = json.dumps(geojson_dict, indent=2)"
   ]
  },
  {
   "cell_type": "code",
   "execution_count": 89,
   "metadata": {},
   "outputs": [
    {
     "name": "stdout",
     "output_type": "stream",
     "text": [
      "46 geotagged features saved to file\n"
     ]
    }
   ],
   "source": [
    "# save the geojson result to a file\n",
    "output_filename = 'wine.js'\n",
    "with open(output_filename, 'w') as output_file:\n",
    "    output_file.write('var dataset = {};'.format(geojson_str))\n",
    "    \n",
    "# how many features did we save to the geojson file?\n",
    "print('{} geotagged features saved to file'.format(len(geojson_dict['features'])))"
   ]
  },
  {
   "cell_type": "code",
   "execution_count": null,
   "metadata": {},
   "outputs": [],
   "source": []
  },
  {
   "cell_type": "code",
   "execution_count": null,
   "metadata": {},
   "outputs": [],
   "source": []
  },
  {
   "cell_type": "code",
   "execution_count": 64,
   "metadata": {},
   "outputs": [
    {
     "data": {
      "text/plain": [
       "[{'country': 'Albania', 'points': 88.0, 'price': 20.0},\n",
       " {'country': 'Argentina',\n",
       "  'points': 86.00107392160372,\n",
       "  'price': 20.794880973688922},\n",
       " {'country': 'Australia',\n",
       "  'points': 87.88148753575807,\n",
       "  'price': 31.258479771148345},\n",
       " {'country': 'Austria',\n",
       "  'points': 89.19089810712848,\n",
       "  'price': 31.192106322996377},\n",
       " {'country': 'Bosnia and Herzegovina', 'points': 84.75, 'price': 12.75},\n",
       " {'country': 'Brazil', 'points': 83.24, 'price': 19.92},\n",
       " {'country': 'Bulgaria',\n",
       "  'points': 85.46753246753246,\n",
       "  'price': 11.545454545454545},\n",
       " {'country': 'Canada',\n",
       "  'points': 88.22164948453609,\n",
       "  'price': 34.628865979381445},\n",
       " {'country': 'Chile',\n",
       "  'points': 86.29812695109261,\n",
       "  'price': 19.344779743322928},\n",
       " {'country': 'China', 'points': 82.0, 'price': 20.333333333333332},\n",
       " {'country': 'Croatia',\n",
       "  'points': 86.49397590361446,\n",
       "  'price': 23.10843373493976},\n",
       " {'country': 'Cyprus',\n",
       "  'points': 85.87096774193549,\n",
       "  'price': 15.483870967741936},\n",
       " {'country': 'Czech Republic', 'points': 85.83333333333333, 'price': 18.0},\n",
       " {'country': 'England', 'points': 92.75, 'price': 47.5},\n",
       " {'country': 'France',\n",
       "  'points': 88.60331416976666,\n",
       "  'price': 45.61988501859993},\n",
       " {'country': 'Georgia',\n",
       "  'points': 85.51162790697674,\n",
       "  'price': 18.58139534883721},\n",
       " {'country': 'Germany', 'points': 88.6105666808692, 'price': 39.011077971879},\n",
       " {'country': 'Greece',\n",
       "  'points': 86.10321100917432,\n",
       "  'price': 21.74770642201835},\n",
       " {'country': 'Hungary',\n",
       "  'points': 87.30434782608695,\n",
       "  'price': 44.20434782608696},\n",
       " {'country': 'India', 'points': 87.625, 'price': 13.875},\n",
       " {'country': 'Israel',\n",
       "  'points': 87.15573770491804,\n",
       "  'price': 31.304918032786887},\n",
       " {'country': 'Italy', 'points': 88.44500638841568, 'price': 37.54791311754685},\n",
       " {'country': 'Japan', 'points': 85.0, 'price': 24.0},\n",
       " {'country': 'Lebanon',\n",
       "  'points': 85.70270270270271,\n",
       "  'price': 25.43243243243243},\n",
       " {'country': 'Lithuania', 'points': 84.25, 'price': 10.0},\n",
       " {'country': 'Luxembourg', 'points': 87.0, 'price': 40.666666666666664},\n",
       " {'country': 'Macedonia', 'points': 84.8125, 'price': 15.3125},\n",
       " {'country': 'Mexico',\n",
       "  'points': 84.76190476190476,\n",
       "  'price': 29.095238095238095},\n",
       " {'country': 'Moldova',\n",
       "  'points': 84.71830985915493,\n",
       "  'price': 15.366197183098592},\n",
       " {'country': 'Montenegro', 'points': 82.0, 'price': 10.0},\n",
       " {'country': 'Morocco',\n",
       "  'points': 88.16666666666667,\n",
       "  'price': 18.833333333333332},\n",
       " {'country': 'New Zealand',\n",
       "  'points': 87.542671009772,\n",
       "  'price': 24.173289902280132},\n",
       " {'country': 'Portugal',\n",
       "  'points': 88.17672413793103,\n",
       "  'price': 26.332614942528735},\n",
       " {'country': 'Romania',\n",
       "  'points': 84.92086330935251,\n",
       "  'price': 16.39568345323741},\n",
       " {'country': 'Serbia',\n",
       "  'points': 87.71428571428571,\n",
       "  'price': 24.285714285714285},\n",
       " {'country': 'Slovakia',\n",
       "  'points': 83.66666666666667,\n",
       "  'price': 15.333333333333334},\n",
       " {'country': 'Slovenia',\n",
       "  'points': 88.17283950617283,\n",
       "  'price': 28.061728395061728},\n",
       " {'country': 'South Africa',\n",
       "  'points': 87.21144389807779,\n",
       "  'price': 21.13053196244971},\n",
       " {'country': 'South Korea', 'points': 81.5, 'price': 13.5},\n",
       " {'country': 'Spain',\n",
       "  'points': 86.63872549019608,\n",
       "  'price': 27.048529411764704},\n",
       " {'country': 'Switzerland', 'points': 87.25, 'price': 26.5},\n",
       " {'country': 'Turkey', 'points': 88.14, 'price': 25.8},\n",
       " {'country': 'US', 'points': 87.81720014805516, 'price': 33.65380839730282},\n",
       " {'country': 'US-France', 'points': 88.0, 'price': 50.0},\n",
       " {'country': 'Ukraine', 'points': 84.6, 'price': 13.0},\n",
       " {'country': 'Uruguay',\n",
       "  'points': 84.54117647058824,\n",
       "  'price': 25.847058823529412}]"
      ]
     },
     "execution_count": 64,
     "metadata": {},
     "output_type": "execute_result"
    }
   ],
   "source": [
    "# convert df to list of dictionaries for json later on\n",
    "country_list = map_df.to_dict('records')\n",
    "country_list"
   ]
  },
  {
   "cell_type": "markdown",
   "metadata": {},
   "source": [
    "# Upolad map data to sqlite db"
   ]
  },
  {
   "cell_type": "code",
   "execution_count": 46,
   "metadata": {},
   "outputs": [],
   "source": [
    "# Creating a Class & table \n",
    "class Map_wine(Base):\n",
    "    __tablename__ = 'map_wine_table'\n",
    "    id = Column(Integer, primary_key=True)\n",
    "    country = Column(String(255))\n",
    "    points = Column(Float)\n",
    "    price = Column(Float)\n",
    "    lat = Column(Float)\n",
    "    lon = Column(Float)"
   ]
  },
  {
   "cell_type": "code",
   "execution_count": 47,
   "metadata": {},
   "outputs": [],
   "source": [
    "Base.metadata.create_all(conn)"
   ]
  },
  {
   "cell_type": "code",
   "execution_count": 48,
   "metadata": {},
   "outputs": [],
   "source": [
    "# Transfer the data to sqlite table\n",
    "map_df.to_sql(name='map_wine_table', con=conn, if_exists='append', index=False)"
   ]
  },
  {
   "cell_type": "code",
   "execution_count": 49,
   "metadata": {},
   "outputs": [
    {
     "data": {
      "text/plain": [
       "['map_wine_table', 'wine_table']"
      ]
     },
     "execution_count": 49,
     "metadata": {},
     "output_type": "execute_result"
    }
   ],
   "source": [
    "# Inspecting the Table to make sure the table is there\n",
    "inspector = inspect(engine)\n",
    "inspector.get_table_names()"
   ]
  },
  {
   "cell_type": "code",
   "execution_count": 50,
   "metadata": {},
   "outputs": [
    {
     "data": {
      "text/plain": [
       "[(1, 'Albania', 88.0, 20.0, 41.000028, 19.9999619),\n",
       " (2, 'Argentina', 86.00107392160372, 20.794880973688922, -34.9964963, -64.9672817),\n",
       " (3, 'Australia', 87.88148753575807, 31.258479771148345, -24.7761086, 134.755),\n",
       " (4, 'Austria', 89.19089810712848, 31.192106322996377, 47.2000338, 13.199959),\n",
       " (5, 'Bosnia and Herzegovina', 84.75, 12.75, 44.3053476, 17.5961467),\n",
       " (6, 'Brazil', 83.24, 19.92, -10.3333333, -53.2),\n",
       " (7, 'Bulgaria', 85.46753246753246, 11.545454545454545, 42.6073975, 25.4856617),\n",
       " (8, 'Canada', 88.22164948453609, 34.628865979381445, 61.0666922, -107.9917071),\n",
       " (9, 'Chile', 86.29812695109261, 19.344779743322928, -31.7613365, -71.3187697),\n",
       " (10, 'China', 82.0, 20.333333333333332, 35.000074, 104.999927),\n",
       " (11, 'Croatia', 86.49397590361446, 23.10843373493976, 45.5643442, 17.0118954),\n",
       " (12, 'Cyprus', 85.87096774193549, 15.483870967741936, 34.9823018, 33.1451285),\n",
       " (13, 'Czech Republic', 85.83333333333333, 18.0, 49.8167003, 15.4749544),\n",
       " (14, 'England', 92.75, 47.5, 52.7954791, -0.5402403),\n",
       " (15, 'France', 88.60331416976666, 45.61988501859993, 46.603354, 1.8883335),\n",
       " (16, 'Georgia', 85.51162790697674, 18.58139534883721, 41.6809707, 44.0287382),\n",
       " (17, 'Germany', 88.6105666808692, 39.011077971879, 51.0834196, 10.4234469),\n",
       " (18, 'Greece', 86.10321100917432, 21.74770642201835, 38.9953683, 21.9877132),\n",
       " (19, 'Hungary', 87.30434782608695, 44.20434782608696, 47.1817585, 19.5060937),\n",
       " (20, 'India', 87.625, 13.875, 22.3511148, 78.6677428)]"
      ]
     },
     "execution_count": 50,
     "metadata": {},
     "output_type": "execute_result"
    }
   ],
   "source": [
    "# Checking the data \n",
    "engine.execute('SELECT * FROM map_wine_table LIMIT 20').fetchall()"
   ]
  }
 ],
 "metadata": {
  "kernelspec": {
   "display_name": "Python 3",
   "language": "python",
   "name": "python3"
  },
  "language_info": {
   "codemirror_mode": {
    "name": "ipython",
    "version": 3
   },
   "file_extension": ".py",
   "mimetype": "text/x-python",
   "name": "python",
   "nbconvert_exporter": "python",
   "pygments_lexer": "ipython3",
   "version": "3.7.2"
  }
 },
 "nbformat": 4,
 "nbformat_minor": 2
}
